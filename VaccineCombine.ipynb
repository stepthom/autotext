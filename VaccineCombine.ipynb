{
 "cells": [
  {
   "cell_type": "code",
   "execution_count": 1,
   "metadata": {},
   "outputs": [],
   "source": [
    "import pandas as pd"
   ]
  },
  {
   "cell_type": "code",
   "execution_count": 2,
   "metadata": {},
   "outputs": [
    {
     "data": {
      "text/html": [
       "<div>\n",
       "<style scoped>\n",
       "    .dataframe tbody tr th:only-of-type {\n",
       "        vertical-align: middle;\n",
       "    }\n",
       "\n",
       "    .dataframe tbody tr th {\n",
       "        vertical-align: top;\n",
       "    }\n",
       "\n",
       "    .dataframe thead th {\n",
       "        text-align: right;\n",
       "    }\n",
       "</style>\n",
       "<table border=\"1\" class=\"dataframe\">\n",
       "  <thead>\n",
       "    <tr style=\"text-align: right;\">\n",
       "      <th></th>\n",
       "      <th>respondent_id</th>\n",
       "      <th>h1n1_vaccine</th>\n",
       "      <th>seasonal_vaccine</th>\n",
       "    </tr>\n",
       "  </thead>\n",
       "  <tbody>\n",
       "    <tr>\n",
       "      <th>0</th>\n",
       "      <td>26707</td>\n",
       "      <td>0.109367</td>\n",
       "      <td>0.243905</td>\n",
       "    </tr>\n",
       "    <tr>\n",
       "      <th>1</th>\n",
       "      <td>26708</td>\n",
       "      <td>0.076627</td>\n",
       "      <td>0.028287</td>\n",
       "    </tr>\n",
       "    <tr>\n",
       "      <th>2</th>\n",
       "      <td>26709</td>\n",
       "      <td>0.208665</td>\n",
       "      <td>0.689847</td>\n",
       "    </tr>\n",
       "    <tr>\n",
       "      <th>3</th>\n",
       "      <td>26710</td>\n",
       "      <td>0.724204</td>\n",
       "      <td>0.918220</td>\n",
       "    </tr>\n",
       "    <tr>\n",
       "      <th>4</th>\n",
       "      <td>26711</td>\n",
       "      <td>0.376253</td>\n",
       "      <td>0.481467</td>\n",
       "    </tr>\n",
       "  </tbody>\n",
       "</table>\n",
       "</div>"
      ],
      "text/plain": [
       "   respondent_id  h1n1_vaccine  seasonal_vaccine\n",
       "0          26707      0.109367          0.243905\n",
       "1          26708      0.076627          0.028287\n",
       "2          26709      0.208665          0.689847\n",
       "3          26710      0.724204          0.918220\n",
       "4          26711      0.376253          0.481467"
      ]
     },
     "execution_count": 2,
     "metadata": {},
     "output_type": "execute_result"
    }
   ],
   "source": [
    "h1n1_file = '54fd3f2d-bc27-481c-8a62-896548a4cbac-probas.csv'\n",
    "seasonal_file = '8dbf10ef-6955-47c2-bc5d-8f6de770840e-probas.csv'\n",
    "\n",
    "h1n1_df = pd.read_csv(\"out/{}\".format(h1n1_file))\n",
    "seasonal_df = pd.read_csv(\"out/{}\".format(seasonal_file))\n",
    "\n",
    "assert(h1n1_df['respondent_id'].equals(seasonal_df['respondent_id']))\n",
    "\n",
    "df = pd.DataFrame({'respondent_id': h1n1_df['respondent_id'],\n",
    "                   'h1n1_vaccine': h1n1_df['1'],\n",
    "                   'seasonal_vaccine': seasonal_df['1']\n",
    "})\n",
    "\n",
    "\n",
    "df.head()"
   ]
  },
  {
   "cell_type": "code",
   "execution_count": 3,
   "metadata": {},
   "outputs": [
    {
     "name": "stdout",
     "output_type": "stream",
     "text": [
      "54fd3f_8dbf10_stepthom_submission.csv\n"
     ]
    }
   ],
   "source": [
    "new_fn = \"{}_{}_stepthom_submission.csv\".format(h1n1_file[0:6], seasonal_file[0:6])\n",
    "print(new_fn)\n",
    "df.to_csv(\"out/{}\".format(new_fn), index=False)"
   ]
  },
  {
   "cell_type": "code",
   "execution_count": null,
   "metadata": {},
   "outputs": [],
   "source": []
  }
 ],
 "metadata": {
  "kernelspec": {
   "display_name": "Python 3",
   "language": "python",
   "name": "python3"
  },
  "language_info": {
   "codemirror_mode": {
    "name": "ipython",
    "version": 3
   },
   "file_extension": ".py",
   "mimetype": "text/x-python",
   "name": "python",
   "nbconvert_exporter": "python",
   "pygments_lexer": "ipython3",
   "version": "3.6.8"
  }
 },
 "nbformat": 4,
 "nbformat_minor": 2
}
